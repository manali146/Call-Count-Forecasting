{
 "cells": [
  {
   "cell_type": "markdown",
   "id": "1f0a1b39",
   "metadata": {},
   "source": [
    "# Installing / Importing Libraries"
   ]
  },
  {
   "cell_type": "code",
   "execution_count": 211,
   "id": "c05d1917",
   "metadata": {},
   "outputs": [],
   "source": [
    "import pandas as pd\n",
    "import numpy as np\n",
    "from datetime import datetime, date \n",
    "import matplotlib\n",
    "import matplotlib.pyplot as plt\n",
    "import seaborn as sns\n",
    "from sklearn.metrics import mean_squared_error"
   ]
  },
  {
   "cell_type": "code",
   "execution_count": 212,
   "id": "2440ee8b",
   "metadata": {},
   "outputs": [],
   "source": [
    "matplotlib.rcParams['figure.figsize'] = (10,5)"
   ]
  },
  {
   "cell_type": "markdown",
   "id": "2e9f85da",
   "metadata": {},
   "source": [
    "# Data"
   ]
  },
  {
   "cell_type": "code",
   "execution_count": 213,
   "id": "9481b5af",
   "metadata": {
    "scrolled": true
   },
   "outputs": [
    {
     "data": {
      "text/html": [
       "<div>\n",
       "<style scoped>\n",
       "    .dataframe tbody tr th:only-of-type {\n",
       "        vertical-align: middle;\n",
       "    }\n",
       "\n",
       "    .dataframe tbody tr th {\n",
       "        vertical-align: top;\n",
       "    }\n",
       "\n",
       "    .dataframe thead th {\n",
       "        text-align: right;\n",
       "    }\n",
       "</style>\n",
       "<table border=\"1\" class=\"dataframe\">\n",
       "  <thead>\n",
       "    <tr style=\"text-align: right;\">\n",
       "      <th></th>\n",
       "      <th>Unnamed: 0</th>\n",
       "      <th>date</th>\n",
       "      <th>date_time</th>\n",
       "      <th>inquiry_name</th>\n",
       "      <th>brief_description</th>\n",
       "      <th>YEAR</th>\n",
       "      <th>Month</th>\n",
       "      <th>Day_of_Month</th>\n",
       "      <th>Day_of_Year</th>\n",
       "      <th>Quarter</th>\n",
       "      <th>Weekday</th>\n",
       "      <th>time_hour</th>\n",
       "    </tr>\n",
       "  </thead>\n",
       "  <tbody>\n",
       "    <tr>\n",
       "      <th>0</th>\n",
       "      <td>951</td>\n",
       "      <td>2017-01-01T00:00:00.000</td>\n",
       "      <td>2017-01-01T00:00:05.000</td>\n",
       "      <td>Language Assistance</td>\n",
       "      <td>Connect to Language Line.</td>\n",
       "      <td>2017</td>\n",
       "      <td>1</td>\n",
       "      <td>1</td>\n",
       "      <td>1</td>\n",
       "      <td>1</td>\n",
       "      <td>Sunday</td>\n",
       "      <td>0</td>\n",
       "    </tr>\n",
       "    <tr>\n",
       "      <th>1</th>\n",
       "      <td>854</td>\n",
       "      <td>2017-01-01T00:00:00.000</td>\n",
       "      <td>2017-01-01T00:01:12.000</td>\n",
       "      <td>Vehicle Blocking Driveway Complaint</td>\n",
       "      <td>Report a vehicle that is blocking a driveway.</td>\n",
       "      <td>2017</td>\n",
       "      <td>1</td>\n",
       "      <td>1</td>\n",
       "      <td>1</td>\n",
       "      <td>1</td>\n",
       "      <td>Sunday</td>\n",
       "      <td>0</td>\n",
       "    </tr>\n",
       "    <tr>\n",
       "      <th>2</th>\n",
       "      <td>697</td>\n",
       "      <td>2017-01-01T00:00:00.000</td>\n",
       "      <td>2017-01-01T00:01:41.000</td>\n",
       "      <td>Apartment Maintenance Complaint</td>\n",
       "      <td>Report a maintenance problem inside an apartment.</td>\n",
       "      <td>2017</td>\n",
       "      <td>1</td>\n",
       "      <td>1</td>\n",
       "      <td>1</td>\n",
       "      <td>1</td>\n",
       "      <td>Sunday</td>\n",
       "      <td>0</td>\n",
       "    </tr>\n",
       "    <tr>\n",
       "      <th>3</th>\n",
       "      <td>617</td>\n",
       "      <td>2017-01-01T00:00:00.000</td>\n",
       "      <td>2017-01-01T00:02:01.000</td>\n",
       "      <td>Noise from Neighbor</td>\n",
       "      <td>Report a noisy neighbor.</td>\n",
       "      <td>2017</td>\n",
       "      <td>1</td>\n",
       "      <td>1</td>\n",
       "      <td>1</td>\n",
       "      <td>1</td>\n",
       "      <td>Sunday</td>\n",
       "      <td>0</td>\n",
       "    </tr>\n",
       "    <tr>\n",
       "      <th>4</th>\n",
       "      <td>720</td>\n",
       "      <td>2017-01-01T00:00:00.000</td>\n",
       "      <td>2017-01-01T00:02:08.000</td>\n",
       "      <td>Find a Police Precinct or PSA by Name</td>\n",
       "      <td>Find a specific precinct or police service are...</td>\n",
       "      <td>2017</td>\n",
       "      <td>1</td>\n",
       "      <td>1</td>\n",
       "      <td>1</td>\n",
       "      <td>1</td>\n",
       "      <td>Sunday</td>\n",
       "      <td>0</td>\n",
       "    </tr>\n",
       "    <tr>\n",
       "      <th>...</th>\n",
       "      <td>...</td>\n",
       "      <td>...</td>\n",
       "      <td>...</td>\n",
       "      <td>...</td>\n",
       "      <td>...</td>\n",
       "      <td>...</td>\n",
       "      <td>...</td>\n",
       "      <td>...</td>\n",
       "      <td>...</td>\n",
       "      <td>...</td>\n",
       "      <td>...</td>\n",
       "      <td>...</td>\n",
       "    </tr>\n",
       "    <tr>\n",
       "      <th>29888780</th>\n",
       "      <td>30268221</td>\n",
       "      <td>2022-10-01T00:00:00.000</td>\n",
       "      <td>2022-10-01T01:25:29.000</td>\n",
       "      <td>Elevator or Escalator Complaint</td>\n",
       "      <td>Report a problem with an elevator or escalator.</td>\n",
       "      <td>2022</td>\n",
       "      <td>10</td>\n",
       "      <td>1</td>\n",
       "      <td>274</td>\n",
       "      <td>4</td>\n",
       "      <td>Saturday</td>\n",
       "      <td>1</td>\n",
       "    </tr>\n",
       "    <tr>\n",
       "      <th>29888781</th>\n",
       "      <td>30268291</td>\n",
       "      <td>2022-10-01T00:00:00.000</td>\n",
       "      <td>2022-10-01T01:27:32.000</td>\n",
       "      <td>Dirty Sidewalk</td>\n",
       "      <td>Report a sidewalk or gutter, including 18 inch...</td>\n",
       "      <td>2022</td>\n",
       "      <td>10</td>\n",
       "      <td>1</td>\n",
       "      <td>274</td>\n",
       "      <td>4</td>\n",
       "      <td>Saturday</td>\n",
       "      <td>1</td>\n",
       "    </tr>\n",
       "    <tr>\n",
       "      <th>29888782</th>\n",
       "      <td>30268292</td>\n",
       "      <td>2022-10-01T00:00:00.000</td>\n",
       "      <td>2022-10-01T01:27:32.000</td>\n",
       "      <td>Dirty Yard or Alley</td>\n",
       "      <td>Report an unclean or untidy yard, alley, or co...</td>\n",
       "      <td>2022</td>\n",
       "      <td>10</td>\n",
       "      <td>1</td>\n",
       "      <td>274</td>\n",
       "      <td>4</td>\n",
       "      <td>Saturday</td>\n",
       "      <td>1</td>\n",
       "    </tr>\n",
       "    <tr>\n",
       "      <th>29888783</th>\n",
       "      <td>30268243</td>\n",
       "      <td>2022-10-01T00:00:00.000</td>\n",
       "      <td>2022-10-01T01:28:13.000</td>\n",
       "      <td>Animal Abuse</td>\n",
       "      <td>Report abuse or neglect of an animal.</td>\n",
       "      <td>2022</td>\n",
       "      <td>10</td>\n",
       "      <td>1</td>\n",
       "      <td>274</td>\n",
       "      <td>4</td>\n",
       "      <td>Saturday</td>\n",
       "      <td>1</td>\n",
       "    </tr>\n",
       "    <tr>\n",
       "      <th>29888784</th>\n",
       "      <td>30268222</td>\n",
       "      <td>2022-10-01T00:00:00.000</td>\n",
       "      <td>2022-10-01T01:28:47.000</td>\n",
       "      <td>Noise from Street or Sidewalk</td>\n",
       "      <td>Report noise from the street or sidewalk.</td>\n",
       "      <td>2022</td>\n",
       "      <td>10</td>\n",
       "      <td>1</td>\n",
       "      <td>274</td>\n",
       "      <td>4</td>\n",
       "      <td>Saturday</td>\n",
       "      <td>1</td>\n",
       "    </tr>\n",
       "  </tbody>\n",
       "</table>\n",
       "<p>29888785 rows × 12 columns</p>\n",
       "</div>"
      ],
      "text/plain": [
       "          Unnamed: 0                     date                date_time  \\\n",
       "0                951  2017-01-01T00:00:00.000  2017-01-01T00:00:05.000   \n",
       "1                854  2017-01-01T00:00:00.000  2017-01-01T00:01:12.000   \n",
       "2                697  2017-01-01T00:00:00.000  2017-01-01T00:01:41.000   \n",
       "3                617  2017-01-01T00:00:00.000  2017-01-01T00:02:01.000   \n",
       "4                720  2017-01-01T00:00:00.000  2017-01-01T00:02:08.000   \n",
       "...              ...                      ...                      ...   \n",
       "29888780    30268221  2022-10-01T00:00:00.000  2022-10-01T01:25:29.000   \n",
       "29888781    30268291  2022-10-01T00:00:00.000  2022-10-01T01:27:32.000   \n",
       "29888782    30268292  2022-10-01T00:00:00.000  2022-10-01T01:27:32.000   \n",
       "29888783    30268243  2022-10-01T00:00:00.000  2022-10-01T01:28:13.000   \n",
       "29888784    30268222  2022-10-01T00:00:00.000  2022-10-01T01:28:47.000   \n",
       "\n",
       "                                   inquiry_name  \\\n",
       "0                           Language Assistance   \n",
       "1           Vehicle Blocking Driveway Complaint   \n",
       "2               Apartment Maintenance Complaint   \n",
       "3                           Noise from Neighbor   \n",
       "4         Find a Police Precinct or PSA by Name   \n",
       "...                                         ...   \n",
       "29888780        Elevator or Escalator Complaint   \n",
       "29888781                         Dirty Sidewalk   \n",
       "29888782                    Dirty Yard or Alley   \n",
       "29888783                           Animal Abuse   \n",
       "29888784          Noise from Street or Sidewalk   \n",
       "\n",
       "                                          brief_description  YEAR  Month  \\\n",
       "0                                 Connect to Language Line.  2017      1   \n",
       "1             Report a vehicle that is blocking a driveway.  2017      1   \n",
       "2         Report a maintenance problem inside an apartment.  2017      1   \n",
       "3                                  Report a noisy neighbor.  2017      1   \n",
       "4         Find a specific precinct or police service are...  2017      1   \n",
       "...                                                     ...   ...    ...   \n",
       "29888780    Report a problem with an elevator or escalator.  2022     10   \n",
       "29888781  Report a sidewalk or gutter, including 18 inch...  2022     10   \n",
       "29888782  Report an unclean or untidy yard, alley, or co...  2022     10   \n",
       "29888783              Report abuse or neglect of an animal.  2022     10   \n",
       "29888784          Report noise from the street or sidewalk.  2022     10   \n",
       "\n",
       "          Day_of_Month  Day_of_Year  Quarter   Weekday  time_hour  \n",
       "0                    1            1        1    Sunday          0  \n",
       "1                    1            1        1    Sunday          0  \n",
       "2                    1            1        1    Sunday          0  \n",
       "3                    1            1        1    Sunday          0  \n",
       "4                    1            1        1    Sunday          0  \n",
       "...                ...          ...      ...       ...        ...  \n",
       "29888780             1          274        4  Saturday          1  \n",
       "29888781             1          274        4  Saturday          1  \n",
       "29888782             1          274        4  Saturday          1  \n",
       "29888783             1          274        4  Saturday          1  \n",
       "29888784             1          274        4  Saturday          1  \n",
       "\n",
       "[29888785 rows x 12 columns]"
      ]
     },
     "execution_count": 213,
     "metadata": {},
     "output_type": "execute_result"
    }
   ],
   "source": [
    "path = 'C:/Users/manal/Desktop/Thesis/Manali-CallsPrediction/ml-generic-thesis-project-structure-main/01-raw-data'\n",
    "df_Inquiries = pd.read_csv(path+'/CallCenter_Inquiries.csv', sep=',', header=0, parse_dates=True)\n",
    "df_Inquiries"
   ]
  },
  {
   "cell_type": "code",
   "execution_count": 214,
   "id": "a4d11960",
   "metadata": {},
   "outputs": [
    {
     "data": {
      "text/html": [
       "<div>\n",
       "<style scoped>\n",
       "    .dataframe tbody tr th:only-of-type {\n",
       "        vertical-align: middle;\n",
       "    }\n",
       "\n",
       "    .dataframe tbody tr th {\n",
       "        vertical-align: top;\n",
       "    }\n",
       "\n",
       "    .dataframe thead th {\n",
       "        text-align: right;\n",
       "    }\n",
       "</style>\n",
       "<table border=\"1\" class=\"dataframe\">\n",
       "  <thead>\n",
       "    <tr style=\"text-align: right;\">\n",
       "      <th></th>\n",
       "      <th>date</th>\n",
       "      <th>Inquiries_NonStat</th>\n",
       "      <th>Inquiries_Stat</th>\n",
       "    </tr>\n",
       "  </thead>\n",
       "  <tbody>\n",
       "    <tr>\n",
       "      <th>0</th>\n",
       "      <td>2017-01-01</td>\n",
       "      <td>7574.0</td>\n",
       "      <td>NaN</td>\n",
       "    </tr>\n",
       "    <tr>\n",
       "      <th>1</th>\n",
       "      <td>2017-01-02</td>\n",
       "      <td>13189.0</td>\n",
       "      <td>NaN</td>\n",
       "    </tr>\n",
       "    <tr>\n",
       "      <th>2</th>\n",
       "      <td>2017-01-03</td>\n",
       "      <td>24678.0</td>\n",
       "      <td>NaN</td>\n",
       "    </tr>\n",
       "    <tr>\n",
       "      <th>3</th>\n",
       "      <td>2017-01-04</td>\n",
       "      <td>23380.0</td>\n",
       "      <td>1.320733</td>\n",
       "    </tr>\n",
       "    <tr>\n",
       "      <th>4</th>\n",
       "      <td>2017-01-05</td>\n",
       "      <td>22809.0</td>\n",
       "      <td>1.247026</td>\n",
       "    </tr>\n",
       "    <tr>\n",
       "      <th>...</th>\n",
       "      <td>...</td>\n",
       "      <td>...</td>\n",
       "      <td>...</td>\n",
       "    </tr>\n",
       "    <tr>\n",
       "      <th>2095</th>\n",
       "      <td>2022-09-27</td>\n",
       "      <td>11598.0</td>\n",
       "      <td>1.178299</td>\n",
       "    </tr>\n",
       "    <tr>\n",
       "      <th>2096</th>\n",
       "      <td>2022-09-28</td>\n",
       "      <td>11886.0</td>\n",
       "      <td>1.298347</td>\n",
       "    </tr>\n",
       "    <tr>\n",
       "      <th>2097</th>\n",
       "      <td>2022-09-29</td>\n",
       "      <td>11772.0</td>\n",
       "      <td>NaN</td>\n",
       "    </tr>\n",
       "    <tr>\n",
       "      <th>2098</th>\n",
       "      <td>2022-09-30</td>\n",
       "      <td>10669.0</td>\n",
       "      <td>NaN</td>\n",
       "    </tr>\n",
       "    <tr>\n",
       "      <th>2099</th>\n",
       "      <td>2022-10-01</td>\n",
       "      <td>96.0</td>\n",
       "      <td>NaN</td>\n",
       "    </tr>\n",
       "  </tbody>\n",
       "</table>\n",
       "<p>2100 rows × 3 columns</p>\n",
       "</div>"
      ],
      "text/plain": [
       "            date  Inquiries_NonStat  Inquiries_Stat\n",
       "0     2017-01-01             7574.0             NaN\n",
       "1     2017-01-02            13189.0             NaN\n",
       "2     2017-01-03            24678.0             NaN\n",
       "3     2017-01-04            23380.0        1.320733\n",
       "4     2017-01-05            22809.0        1.247026\n",
       "...          ...                ...             ...\n",
       "2095  2022-09-27            11598.0        1.178299\n",
       "2096  2022-09-28            11886.0        1.298347\n",
       "2097  2022-09-29            11772.0             NaN\n",
       "2098  2022-09-30            10669.0             NaN\n",
       "2099  2022-10-01               96.0             NaN\n",
       "\n",
       "[2100 rows x 3 columns]"
      ]
     },
     "execution_count": 214,
     "metadata": {},
     "output_type": "execute_result"
    }
   ],
   "source": [
    "path = 'C:/Users/manal/Desktop/Thesis/Manali-CallsPrediction/ml-generic-thesis-project-structure-main/01-raw-data'\n",
    "Daily_data = pd.read_csv(path+'/Daily_data.csv', sep=',', header=0, parse_dates=True)\n",
    "Daily_data"
   ]
  },
  {
   "cell_type": "code",
   "execution_count": 215,
   "id": "f956a254",
   "metadata": {},
   "outputs": [
    {
     "data": {
      "text/plain": [
       "date                 False\n",
       "Inquiries_NonStat    False\n",
       "Inquiries_Stat        True\n",
       "dtype: bool"
      ]
     },
     "execution_count": 215,
     "metadata": {},
     "output_type": "execute_result"
    }
   ],
   "source": [
    "Daily_data.isna().any()"
   ]
  },
  {
   "cell_type": "code",
   "execution_count": 216,
   "id": "c9e2d113",
   "metadata": {},
   "outputs": [
    {
     "data": {
      "text/html": [
       "<div>\n",
       "<style scoped>\n",
       "    .dataframe tbody tr th:only-of-type {\n",
       "        vertical-align: middle;\n",
       "    }\n",
       "\n",
       "    .dataframe tbody tr th {\n",
       "        vertical-align: top;\n",
       "    }\n",
       "\n",
       "    .dataframe thead th {\n",
       "        text-align: right;\n",
       "    }\n",
       "</style>\n",
       "<table border=\"1\" class=\"dataframe\">\n",
       "  <thead>\n",
       "    <tr style=\"text-align: right;\">\n",
       "      <th></th>\n",
       "      <th>Inquiries_NonStat</th>\n",
       "      <th>Inquiries_Stat</th>\n",
       "    </tr>\n",
       "  </thead>\n",
       "  <tbody>\n",
       "    <tr>\n",
       "      <th>count</th>\n",
       "      <td>2100.000000</td>\n",
       "      <td>2094.000000</td>\n",
       "    </tr>\n",
       "    <tr>\n",
       "      <th>mean</th>\n",
       "      <td>14234.188571</td>\n",
       "      <td>0.998492</td>\n",
       "    </tr>\n",
       "    <tr>\n",
       "      <th>std</th>\n",
       "      <td>5816.090211</td>\n",
       "      <td>0.328633</td>\n",
       "    </tr>\n",
       "    <tr>\n",
       "      <th>min</th>\n",
       "      <td>96.000000</td>\n",
       "      <td>0.038536</td>\n",
       "    </tr>\n",
       "    <tr>\n",
       "      <th>25%</th>\n",
       "      <td>9733.750000</td>\n",
       "      <td>0.599834</td>\n",
       "    </tr>\n",
       "    <tr>\n",
       "      <th>50%</th>\n",
       "      <td>13863.500000</td>\n",
       "      <td>1.145044</td>\n",
       "    </tr>\n",
       "    <tr>\n",
       "      <th>75%</th>\n",
       "      <td>19307.000000</td>\n",
       "      <td>1.233318</td>\n",
       "    </tr>\n",
       "    <tr>\n",
       "      <th>max</th>\n",
       "      <td>30619.000000</td>\n",
       "      <td>2.227288</td>\n",
       "    </tr>\n",
       "  </tbody>\n",
       "</table>\n",
       "</div>"
      ],
      "text/plain": [
       "       Inquiries_NonStat  Inquiries_Stat\n",
       "count        2100.000000     2094.000000\n",
       "mean        14234.188571        0.998492\n",
       "std          5816.090211        0.328633\n",
       "min            96.000000        0.038536\n",
       "25%          9733.750000        0.599834\n",
       "50%         13863.500000        1.145044\n",
       "75%         19307.000000        1.233318\n",
       "max         30619.000000        2.227288"
      ]
     },
     "execution_count": 216,
     "metadata": {},
     "output_type": "execute_result"
    }
   ],
   "source": [
    "Daily_data.describe()"
   ]
  },
  {
   "cell_type": "code",
   "execution_count": 217,
   "id": "cb9c421e",
   "metadata": {
    "scrolled": false
   },
   "outputs": [
    {
     "name": "stderr",
     "output_type": "stream",
     "text": [
      "C:\\Users\\manal\\AppData\\Local\\Temp\\ipykernel_37728\\3727895367.py:2: FutureWarning: In a future version of pandas all arguments of DataFrame.drop except for the argument 'labels' will be keyword-only.\n",
      "  Daily_data.drop(Daily_data.columns.difference(['Inquiries_NonStat']),1, inplace=True)\n"
     ]
    },
    {
     "data": {
      "text/plain": [
       "<AxesSubplot:xlabel='date'>"
      ]
     },
     "execution_count": 217,
     "metadata": {},
     "output_type": "execute_result"
    },
    {
     "data": {
      "image/png": "[encoded data removed]",
      "text/plain": [
       "<Figure size 720x360 with 1 Axes>"
      ]
     },
     "metadata": {
      "needs_background": "light"
     },
     "output_type": "display_data"
    }
   ],
   "source": [
    "Daily_data.set_index('date', inplace = True)\n",
    "Daily_data.drop(Daily_data.columns.difference(['Inquiries_NonStat']),1, inplace=True)\n",
    "Daily_data.plot()\n",
    "Daily_data.rolling(window=30).mean()['Inquiries_NonStat'].plot()"
   ]
  },
  {
   "cell_type": "markdown",
   "id": "c2f4483f",
   "metadata": {},
   "source": [
    "Average of 30 days"
   ]
  },
  {
   "cell_type": "markdown",
   "id": "d4f94484",
   "metadata": {},
   "source": [
    "# Splitting the data into 80:20 ratio"
   ]
  },
  {
   "cell_type": "code",
   "execution_count": 218,
   "id": "a0def047",
   "metadata": {},
   "outputs": [],
   "source": [
    "train_df = Daily_data.iloc[:1680]\n",
    "test_df  = Daily_data.iloc[1679:]"
   ]
  },
  {
   "cell_type": "code",
   "execution_count": 219,
   "id": "a9d68cab",
   "metadata": {},
   "outputs": [],
   "source": [
    "train_df.index = pd.to_datetime(train_df.index)\n",
    "test_df.index = pd.to_datetime(test_df.index)"
   ]
  },
  {
   "cell_type": "markdown",
   "id": "001ffe82",
   "metadata": {},
   "source": [
    "# Holt-Winters Model with Training Data"
   ]
  },
  {
   "cell_type": "code",
   "execution_count": 220,
   "id": "c5544af7",
   "metadata": {
    "scrolled": true
   },
   "outputs": [
    {
     "name": "stderr",
     "output_type": "stream",
     "text": [
      "C:\\Users\\manal\\anaconda3\\lib\\site-packages\\statsmodels\\tsa\\base\\tsa_model.py:471: ValueWarning: No frequency information was provided, so inferred frequency D will be used.\n",
      "  self._init_dates(dates, freq)\n",
      "C:\\Users\\manal\\anaconda3\\lib\\site-packages\\statsmodels\\tsa\\holtwinters\\model.py:83: RuntimeWarning: overflow encountered in matmul\n",
      "  return err.T @ err\n",
      "C:\\Users\\manal\\anaconda3\\lib\\site-packages\\statsmodels\\tsa\\holtwinters\\model.py:915: ConvergenceWarning: Optimization failed to converge. Check mle_retvals.\n",
      "  warnings.warn(\n"
     ]
    },
    {
     "data": {
      "text/html": [
       "<div>\n",
       "<style scoped>\n",
       "    .dataframe tbody tr th:only-of-type {\n",
       "        vertical-align: middle;\n",
       "    }\n",
       "\n",
       "    .dataframe tbody tr th {\n",
       "        vertical-align: top;\n",
       "    }\n",
       "\n",
       "    .dataframe thead th {\n",
       "        text-align: right;\n",
       "    }\n",
       "</style>\n",
       "<table border=\"1\" class=\"dataframe\">\n",
       "  <thead>\n",
       "    <tr style=\"text-align: right;\">\n",
       "      <th></th>\n",
       "      <th>Predicted_Inquiries</th>\n",
       "    </tr>\n",
       "    <tr>\n",
       "      <th>date</th>\n",
       "      <th></th>\n",
       "    </tr>\n",
       "  </thead>\n",
       "  <tbody>\n",
       "    <tr>\n",
       "      <th>2021-08-08</th>\n",
       "      <td>5007.575268</td>\n",
       "    </tr>\n",
       "    <tr>\n",
       "      <th>2021-08-09</th>\n",
       "      <td>14221.904163</td>\n",
       "    </tr>\n",
       "    <tr>\n",
       "      <th>2021-08-10</th>\n",
       "      <td>14183.938245</td>\n",
       "    </tr>\n",
       "    <tr>\n",
       "      <th>2021-08-11</th>\n",
       "      <td>13412.132896</td>\n",
       "    </tr>\n",
       "    <tr>\n",
       "      <th>2021-08-12</th>\n",
       "      <td>12826.063761</td>\n",
       "    </tr>\n",
       "    <tr>\n",
       "      <th>2021-08-13</th>\n",
       "      <td>11612.414632</td>\n",
       "    </tr>\n",
       "    <tr>\n",
       "      <th>2021-08-14</th>\n",
       "      <td>5533.508407</td>\n",
       "    </tr>\n",
       "    <tr>\n",
       "      <th>2021-08-15</th>\n",
       "      <td>4793.629099</td>\n",
       "    </tr>\n",
       "    <tr>\n",
       "      <th>2021-08-16</th>\n",
       "      <td>14008.676563</td>\n",
       "    </tr>\n",
       "    <tr>\n",
       "      <th>2021-08-17</th>\n",
       "      <td>13971.426799</td>\n",
       "    </tr>\n",
       "    <tr>\n",
       "      <th>2021-08-18</th>\n",
       "      <td>13200.335200</td>\n",
       "    </tr>\n",
       "    <tr>\n",
       "      <th>2021-08-19</th>\n",
       "      <td>12614.977417</td>\n",
       "    </tr>\n",
       "    <tr>\n",
       "      <th>2021-08-20</th>\n",
       "      <td>11402.037251</td>\n",
       "    </tr>\n",
       "    <tr>\n",
       "      <th>2021-08-21</th>\n",
       "      <td>5323.837609</td>\n",
       "    </tr>\n",
       "    <tr>\n",
       "      <th>2021-08-22</th>\n",
       "      <td>4584.662509</td>\n",
       "    </tr>\n",
       "    <tr>\n",
       "      <th>2021-08-23</th>\n",
       "      <td>13800.411816</td>\n",
       "    </tr>\n",
       "    <tr>\n",
       "      <th>2021-08-24</th>\n",
       "      <td>13763.861539</td>\n",
       "    </tr>\n",
       "    <tr>\n",
       "      <th>2021-08-25</th>\n",
       "      <td>12993.467077</td>\n",
       "    </tr>\n",
       "    <tr>\n",
       "      <th>2021-08-26</th>\n",
       "      <td>12408.804090</td>\n",
       "    </tr>\n",
       "    <tr>\n",
       "      <th>2021-08-27</th>\n",
       "      <td>11196.556386</td>\n",
       "    </tr>\n",
       "    <tr>\n",
       "      <th>2021-08-28</th>\n",
       "      <td>5119.046880</td>\n",
       "    </tr>\n",
       "    <tr>\n",
       "      <th>2021-08-29</th>\n",
       "      <td>4380.559599</td>\n",
       "    </tr>\n",
       "    <tr>\n",
       "      <th>2021-08-30</th>\n",
       "      <td>13596.994414</td>\n",
       "    </tr>\n",
       "    <tr>\n",
       "      <th>2021-08-31</th>\n",
       "      <td>13561.127343</td>\n",
       "    </tr>\n",
       "    <tr>\n",
       "      <th>2021-09-01</th>\n",
       "      <td>12791.413792</td>\n",
       "    </tr>\n",
       "    <tr>\n",
       "      <th>2021-09-02</th>\n",
       "      <td>12207.429429</td>\n",
       "    </tr>\n",
       "    <tr>\n",
       "      <th>2021-09-03</th>\n",
       "      <td>10995.858070</td>\n",
       "    </tr>\n",
       "    <tr>\n",
       "      <th>2021-09-04</th>\n",
       "      <td>4919.022638</td>\n",
       "    </tr>\n",
       "    <tr>\n",
       "      <th>2021-09-05</th>\n",
       "      <td>4181.207167</td>\n",
       "    </tr>\n",
       "    <tr>\n",
       "      <th>2021-09-06</th>\n",
       "      <td>13398.311535</td>\n",
       "    </tr>\n",
       "    <tr>\n",
       "      <th>2021-09-07</th>\n",
       "      <td>13363.111768</td>\n",
       "    </tr>\n",
       "    <tr>\n",
       "      <th>2021-09-08</th>\n",
       "      <td>12594.063281</td>\n",
       "    </tr>\n",
       "    <tr>\n",
       "      <th>2021-09-09</th>\n",
       "      <td>12010.741747</td>\n",
       "    </tr>\n",
       "    <tr>\n",
       "      <th>2021-09-10</th>\n",
       "      <td>10799.830991</td>\n",
       "    </tr>\n",
       "    <tr>\n",
       "      <th>2021-09-11</th>\n",
       "      <td>4723.653943</td>\n",
       "    </tr>\n",
       "    <tr>\n",
       "      <th>2021-09-12</th>\n",
       "      <td>3986.494645</td>\n",
       "    </tr>\n",
       "    <tr>\n",
       "      <th>2021-09-13</th>\n",
       "      <td>13204.252983</td>\n",
       "    </tr>\n",
       "    <tr>\n",
       "      <th>2021-09-14</th>\n",
       "      <td>13169.704989</td>\n",
       "    </tr>\n",
       "    <tr>\n",
       "      <th>2021-09-15</th>\n",
       "      <td>12401.306085</td>\n",
       "    </tr>\n",
       "    <tr>\n",
       "      <th>2021-09-16</th>\n",
       "      <td>11818.631954</td>\n",
       "    </tr>\n",
       "    <tr>\n",
       "      <th>2021-09-17</th>\n",
       "      <td>10608.366426</td>\n",
       "    </tr>\n",
       "    <tr>\n",
       "      <th>2021-09-18</th>\n",
       "      <td>4532.832439</td>\n",
       "    </tr>\n",
       "    <tr>\n",
       "      <th>2021-09-19</th>\n",
       "      <td>3796.314041</td>\n",
       "    </tr>\n",
       "    <tr>\n",
       "      <th>2021-09-20</th>\n",
       "      <td>13014.711127</td>\n",
       "    </tr>\n",
       "    <tr>\n",
       "      <th>2021-09-21</th>\n",
       "      <td>12980.799737</td>\n",
       "    </tr>\n",
       "    <tr>\n",
       "      <th>2021-09-22</th>\n",
       "      <td>12213.035297</td>\n",
       "    </tr>\n",
       "    <tr>\n",
       "      <th>2021-09-23</th>\n",
       "      <td>11630.993500</td>\n",
       "    </tr>\n",
       "    <tr>\n",
       "      <th>2021-09-24</th>\n",
       "      <td>10421.358182</td>\n",
       "    </tr>\n",
       "    <tr>\n",
       "      <th>2021-09-25</th>\n",
       "      <td>4346.452288</td>\n",
       "    </tr>\n",
       "    <tr>\n",
       "      <th>2021-09-26</th>\n",
       "      <td>3610.559875</td>\n",
       "    </tr>\n",
       "  </tbody>\n",
       "</table>\n",
       "</div>"
      ],
      "text/plain": [
       "            Predicted_Inquiries\n",
       "date                           \n",
       "2021-08-08          5007.575268\n",
       "2021-08-09         14221.904163\n",
       "2021-08-10         14183.938245\n",
       "2021-08-11         13412.132896\n",
       "2021-08-12         12826.063761\n",
       "2021-08-13         11612.414632\n",
       "2021-08-14          5533.508407\n",
       "2021-08-15          4793.629099\n",
       "2021-08-16         14008.676563\n",
       "2021-08-17         13971.426799\n",
       "2021-08-18         13200.335200\n",
       "2021-08-19         12614.977417\n",
       "2021-08-20         11402.037251\n",
       "2021-08-21          5323.837609\n",
       "2021-08-22          4584.662509\n",
       "2021-08-23         13800.411816\n",
       "2021-08-24         13763.861539\n",
       "2021-08-25         12993.467077\n",
       "2021-08-26         12408.804090\n",
       "2021-08-27         11196.556386\n",
       "2021-08-28          5119.046880\n",
       "2021-08-29          4380.559599\n",
       "2021-08-30         13596.994414\n",
       "2021-08-31         13561.127343\n",
       "2021-09-01         12791.413792\n",
       "2021-09-02         12207.429429\n",
       "2021-09-03         10995.858070\n",
       "2021-09-04          4919.022638\n",
       "2021-09-05          4181.207167\n",
       "2021-09-06         13398.311535\n",
       "2021-09-07         13363.111768\n",
       "2021-09-08         12594.063281\n",
       "2021-09-09         12010.741747\n",
       "2021-09-10         10799.830991\n",
       "2021-09-11          4723.653943\n",
       "2021-09-12          3986.494645\n",
       "2021-09-13         13204.252983\n",
       "2021-09-14         13169.704989\n",
       "2021-09-15         12401.306085\n",
       "2021-09-16         11818.631954\n",
       "2021-09-17         10608.366426\n",
       "2021-09-18          4532.832439\n",
       "2021-09-19          3796.314041\n",
       "2021-09-20         13014.711127\n",
       "2021-09-21         12980.799737\n",
       "2021-09-22         12213.035297\n",
       "2021-09-23         11630.993500\n",
       "2021-09-24         10421.358182\n",
       "2021-09-25          4346.452288\n",
       "2021-09-26          3610.559875"
      ]
     },
     "execution_count": 220,
     "metadata": {},
     "output_type": "execute_result"
    }
   ],
   "source": [
    "# The Holt-Winter's Method: Average, Trend & Seasonality\n",
    "from statsmodels.tsa.holtwinters import ExponentialSmoothing\n",
    "\n",
    "fit_model = ExponentialSmoothing(train_df['Inquiries_NonStat'],\n",
    "                                 trend='mul',\n",
    "                                 seasonal= 'add',\n",
    "                                seasonal_periods=7).fit() # try & test\n",
    "\n",
    "prediction = fit_model.forecast(50) # Predicting 50 days into future\n",
    "prediction = pd.DataFrame(prediction)\n",
    "prediction = prediction.rename(columns= {0: 'Predicted_Inquiries'})\n",
    "prediction.index.name = 'date'\n",
    "prediction"
   ]
  },
  {
   "cell_type": "code",
   "execution_count": 221,
   "id": "ecb5c7be",
   "metadata": {},
   "outputs": [
    {
     "data": {
      "image/png": "[encoded data removed]",
      "text/plain": [
       "<Figure size 720x360 with 1 Axes>"
      ]
     },
     "metadata": {
      "needs_background": "light"
     },
     "output_type": "display_data"
    }
   ],
   "source": [
    "plt.plot(train_df)\n",
    "plt.plot(test_df)\n",
    "plt.plot(prediction)\n",
    "plt.show()"
   ]
  },
  {
   "cell_type": "code",
   "execution_count": 222,
   "id": "2c2fab4d",
   "metadata": {
    "scrolled": true
   },
   "outputs": [
    {
     "data": {
      "text/plain": [
       "<matplotlib.legend.Legend at 0x2435778d1c0>"
      ]
     },
     "execution_count": 222,
     "metadata": {},
     "output_type": "execute_result"
    },
    {
     "data": {
      "image/png": "[encoded data removed]",
      "text/plain": [
       "<Figure size 720x360 with 1 Axes>"
      ]
     },
     "metadata": {
      "needs_background": "light"
     },
     "output_type": "display_data"
    }
   ],
   "source": [
    "plt.plot(test_df.loc['2021-08-08':'2021-09-26'],label='Inquiries')\n",
    "plt.plot(prediction.loc['2021-08-08':'2021-09-26'],label='Predicted inquiries')\n",
    "plt.legend()"
   ]
  },
  {
   "cell_type": "markdown",
   "id": "33ffd0b3",
   "metadata": {},
   "source": [
    "# Evaluating Prediction"
   ]
  },
  {
   "cell_type": "code",
   "execution_count": 223,
   "id": "f915d7f4",
   "metadata": {},
   "outputs": [],
   "source": [
    "from sklearn.metrics import mean_squared_error, mean_absolute_error"
   ]
  },
  {
   "cell_type": "code",
   "execution_count": 224,
   "id": "ce6086fc",
   "metadata": {
    "scrolled": true
   },
   "outputs": [
    {
     "data": {
      "text/plain": [
       "1424.5035878322421"
      ]
     },
     "execution_count": 224,
     "metadata": {},
     "output_type": "execute_result"
    }
   ],
   "source": [
    "mean_absolute_error(test_df.loc['2021-08-08':'2021-09-26'],prediction)"
   ]
  },
  {
   "cell_type": "code",
   "execution_count": 225,
   "id": "fd04c5f4",
   "metadata": {},
   "outputs": [
    {
     "data": {
      "text/plain": [
       "2836299.190743061"
      ]
     },
     "execution_count": 225,
     "metadata": {},
     "output_type": "execute_result"
    }
   ],
   "source": [
    "mean_squared_error(test_df.loc['2021-08-08':'2021-09-26'],prediction)"
   ]
  },
  {
   "cell_type": "code",
   "execution_count": 226,
   "id": "1e24bad3",
   "metadata": {},
   "outputs": [
    {
     "data": {
      "text/plain": [
       "1684.131583559628"
      ]
     },
     "execution_count": 226,
     "metadata": {},
     "output_type": "execute_result"
    }
   ],
   "source": [
    "np.sqrt(mean_squared_error(test_df.loc['2021-08-08':'2021-09-26'],prediction))"
   ]
  }
 ],
 "metadata": {
  "kernelspec": {
   "display_name": "Python 3 (ipykernel)",
   "language": "python",
   "name": "python3"
  },
  "language_info": {
   "codemirror_mode": {
    "name": "ipython",
    "version": 3
   },
   "file_extension": ".py",
   "mimetype": "text/x-python",
   "name": "python",
   "nbconvert_exporter": "python",
   "pygments_lexer": "ipython3",
   "version": "3.9.12"
  }
 },
 "nbformat": 4,
 "nbformat_minor": 5
}
